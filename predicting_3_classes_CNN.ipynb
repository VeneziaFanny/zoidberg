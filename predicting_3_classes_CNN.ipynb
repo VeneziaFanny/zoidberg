{
 "cells": [
  {
   "cell_type": "markdown",
   "metadata": {},
   "source": [
    "#### Imports"
   ]
  },
  {
   "cell_type": "code",
   "execution_count": 1,
   "metadata": {
    "ExecuteTime": {
     "end_time": "2024-05-28T10:21:23.122791Z",
     "start_time": "2024-05-28T10:21:22.808327Z"
    }
   },
   "outputs": [],
   "source": [
    "import cv2\n",
    "import numpy as np\n",
    "import matplotlib.pyplot as plt\n",
    "import seaborn as sns\n",
    "\n",
    "from sklearn.model_selection import train_test_split\n",
    "from sklearn.metrics import recall_score, precision_score, f1_score, confusion_matrix\n",
    "\n",
    "import tools\n",
    "from skimage import transform\n"
   ]
  },
  {
   "cell_type": "code",
   "execution_count": 10,
   "metadata": {
    "ExecuteTime": {
     "end_time": "2024-05-28T10:22:02.593104Z",
     "start_time": "2024-05-28T10:21:23.778416Z"
    },
    "collapsed": false
   },
   "outputs": [],
   "source": [
    "all_images = []\n",
    "all_categories = []\n",
    "\n",
    "datasetX = []\n",
    "datasetY = []\n",
    "\n",
    "image_size = (200, 200)\n",
    "\n",
    "def load_datasets(img, category, file_name):\n",
    "    if category == \"PNEUMONIA\":\n",
    "        if \"virus\" in file_name:\n",
    "            category = \"VIRUS PNEUMONIA\"\n",
    "        elif \"bacteria\" in file_name:\n",
    "            category = \"BACTERIA PNEUMONIA\"\n",
    "    else:\n",
    "        category = \"NORMAL\"\n",
    "    \n",
    "    new_img = cv2.resize(img, image_size)\n",
    "    all_images.append(new_img)\n",
    "    all_categories.append(category)\n",
    "\n",
    "tools.browse_imgs_multi_classes(load_datasets)"
   ]
  },
  {
   "cell_type": "markdown",
   "metadata": {},
   "source": [
    "##### Doubler le dataset d'images NORMAL"
   ]
  },
  {
   "cell_type": "code",
   "execution_count": 11,
   "metadata": {},
   "outputs": [
    {
     "name": "stdout",
     "output_type": "stream",
     "text": [
      "Normal indices size :  0\n",
      "Normal indices size :  1583\n",
      "Dataset all shape :  (9022, 200, 200)\n"
     ]
    }
   ],
   "source": [
    "def rotate_image(image, angle):\n",
    "    return transform.rotate(image, angle)\n",
    "\n",
    "def flip_image(image):\n",
    "    return image[:, ::-1]\n",
    "\n",
    "normal_indice = []\n",
    "print(\"Normal indices size : \", len(normal_indice))\n",
    "\n",
    "# Créer une liste pour stocker les indices des images \"NORMAL\"\n",
    "normal_indice = [i for i, category in enumerate(all_categories) if category == \"NORMAL\"]\n",
    "\n",
    "print(\"Normal indices size : \", len(normal_indice))\n",
    "\n",
    "# Pour chaque image \"NORMAL\"...\n",
    "for i in normal_indice:\n",
    "    img = all_images[i]\n",
    "\n",
    "    # Effectuer une rotation de 20 degrés, redimensionner l'image et l'ajouter à la liste de toutes les images\n",
    "    rotated_img = rotate_image(img, 20)\n",
    "    resized_rotated_img = cv2.resize(rotated_img, image_size)\n",
    "    all_images.append(resized_rotated_img)\n",
    "    all_categories.append(\"NORMAL\")\n",
    "\n",
    "    # Effectuer un retournement horizontal, redimensionner l'image et l'ajouter à la liste de toutes les images\n",
    "    flipped_img = flip_image(img)\n",
    "    resized_flipped_img = cv2.resize(flipped_img, image_size)\n",
    "    all_images.append(resized_flipped_img)\n",
    "    all_categories.append(\"NORMAL\")\n",
    "\n",
    "# Convert the list of all images to a numpy array\n",
    "datasetX = np.array(all_images)\n",
    "\n",
    "def use_all_dataset():\n",
    "    global datasetX, datasetY\n",
    "    datasetX = np.array(all_images)\n",
    "    datasetY = np.array(all_categories)\n",
    "\n",
    "use_all_dataset()\n",
    "print(\"Dataset all shape : \", datasetX.shape)"
   ]
  },
  {
   "cell_type": "markdown",
   "metadata": {},
   "source": [
    "#### Doubler le datase d'images \"virus pneumonia\""
   ]
  },
  {
   "cell_type": "code",
   "execution_count": 12,
   "metadata": {},
   "outputs": [
    {
     "name": "stdout",
     "output_type": "stream",
     "text": [
      "VIRUS PNEUMONIA indices size :  1493\n",
      "Dataset all shape :  (12008, 200, 200)\n"
     ]
    }
   ],
   "source": [
    "# Créer une liste pour stocker les indices des images \"VIRUS PNEUMONIA\"\n",
    "virus_pneumonia_indices = [i for i, category in enumerate(all_categories) if category == \"VIRUS PNEUMONIA\"]\n",
    "\n",
    "print(\"VIRUS PNEUMONIA indices size : \", len(virus_pneumonia_indices))\n",
    "\n",
    "# Pour chaque image \"VIRUS PNEUMONIA\"...\n",
    "for i in virus_pneumonia_indices:\n",
    "    img = all_images[i]\n",
    "\n",
    "    # Effectuer une rotation de 20 degrés, redimensionner l'image et l'ajouter à la liste de toutes les images\n",
    "    rotated_img = rotate_image(img, 20)\n",
    "    resized_rotated_img = cv2.resize(rotated_img, image_size)\n",
    "    all_images.append(resized_rotated_img)\n",
    "    all_categories.append(\"VIRUS PNEUMONIA\")\n",
    "\n",
    "    # Effectuer un retournement horizontal, redimensionner l'image et l'ajouter à la liste de toutes les images\n",
    "    flipped_img = flip_image(img)\n",
    "    resized_flipped_img = cv2.resize(flipped_img, image_size)\n",
    "    all_images.append(resized_flipped_img)\n",
    "    all_categories.append(\"VIRUS PNEUMONIA\")\n",
    "\n",
    "# Convertir la liste de toutes les images en un tableau numpy\n",
    "datasetX = np.array(all_images)\n",
    "datasetY = np.array(all_categories)  # Assurez-vous que cette conversion est nécessaire pour votre cas d'utilisation\n",
    "\n",
    "print(\"Dataset all shape : \", datasetX.shape)"
   ]
  },
  {
   "cell_type": "markdown",
   "metadata": {},
   "source": [
    "#### CNN - Convolution Neural Network"
   ]
  },
  {
   "cell_type": "markdown",
   "metadata": {},
   "source": [
    "##### Les imports"
   ]
  },
  {
   "cell_type": "code",
   "execution_count": 13,
   "metadata": {},
   "outputs": [],
   "source": [
    "import visualkeras as vk\n",
    "from scikeras.wrappers import KerasClassifier\n",
    "import tensorflow as tf\n",
    "from tensorflow.keras import layers\n",
    "from tensorflow.keras.utils import to_categorical"
   ]
  },
  {
   "cell_type": "markdown",
   "metadata": {},
   "source": [
    "##### Le modèle"
   ]
  },
  {
   "cell_type": "markdown",
   "metadata": {},
   "source": [
    "Convolution = mettre en évidence les caractéristiques de l'image.\n",
    "\n",
    "Poolling = réduire l'image."
   ]
  },
  {
   "cell_type": "code",
   "execution_count": 14,
   "metadata": {},
   "outputs": [],
   "source": [
    "num_classes = 3\n",
    "core_size = 8\n",
    "model = tf.keras.Sequential([\n",
    "    layers.Input(shape=(200, 200, 1)),\n",
    "    layers.Conv2D(16, core_size, activation='relu'),\n",
    "    layers.MaxPooling2D(),\n",
    "    layers.Conv2D(32, core_size, activation='relu'),\n",
    "    layers.MaxPooling2D(),\n",
    "    layers.Conv2D(64, core_size, activation='relu'),\n",
    "    layers.MaxPooling2D(),\n",
    "    layers.Conv2D(128, core_size, activation='relu'),\n",
    "    layers.MaxPooling2D(),\n",
    "\n",
    "    layers.Flatten(),\n",
    "    layers.Dense(64, activation='relu'),\n",
    "    layers.Dense(num_classes, activation='softmax')\n",
    "])\n",
    "\n",
    "# model.summary()"
   ]
  },
  {
   "cell_type": "code",
   "execution_count": 15,
   "metadata": {},
   "outputs": [],
   "source": [
    "model.compile(optimizer='rmsprop',\n",
    "              loss=tf.losses.SparseCategoricalCrossentropy(from_logits=True),\n",
    "              metrics=['accuracy'])"
   ]
  },
  {
   "cell_type": "code",
   "execution_count": 16,
   "metadata": {},
   "outputs": [
    {
     "name": "stdout",
     "output_type": "stream",
     "text": [
      "[0 1 2 0 1 1 0 2 2 2 0 0 0 1 2 2 1 0 2 0]\n",
      "Epoch 1/10\n"
     ]
    },
    {
     "name": "stderr",
     "output_type": "stream",
     "text": [
      "c:\\Users\\fvenezia\\AppData\\Local\\Programs\\Python\\Python312\\Lib\\site-packages\\keras\\src\\backend\\tensorflow\\nn.py:602: UserWarning: \"`sparse_categorical_crossentropy` received `from_logits=True`, but the `output` argument was produced by a Softmax activation and thus does not represent logits. Was this intended?\n",
      "  output, from_logits = _get_logits(\n"
     ]
    },
    {
     "name": "stdout",
     "output_type": "stream",
     "text": [
      "\u001b[1m301/301\u001b[0m \u001b[32m━━━━━━━━━━━━━━━━━━━━\u001b[0m\u001b[37m\u001b[0m \u001b[1m73s\u001b[0m 239ms/step - accuracy: 0.3906 - loss: 1.0376 - val_accuracy: 0.6003 - val_loss: 0.7525\n",
      "Epoch 2/10\n",
      "\u001b[1m301/301\u001b[0m \u001b[32m━━━━━━━━━━━━━━━━━━━━\u001b[0m\u001b[37m\u001b[0m \u001b[1m71s\u001b[0m 235ms/step - accuracy: 0.6020 - loss: 0.7835 - val_accuracy: 0.5420 - val_loss: 0.8645\n",
      "Epoch 3/10\n",
      "\u001b[1m301/301\u001b[0m \u001b[32m━━━━━━━━━━━━━━━━━━━━\u001b[0m\u001b[37m\u001b[0m \u001b[1m68s\u001b[0m 227ms/step - accuracy: 0.6716 - loss: 0.6718 - val_accuracy: 0.6919 - val_loss: 0.5978\n",
      "Epoch 4/10\n",
      "\u001b[1m301/301\u001b[0m \u001b[32m━━━━━━━━━━━━━━━━━━━━\u001b[0m\u001b[37m\u001b[0m \u001b[1m71s\u001b[0m 235ms/step - accuracy: 0.7075 - loss: 0.5550 - val_accuracy: 0.7002 - val_loss: 0.5737\n",
      "Epoch 5/10\n",
      "\u001b[1m301/301\u001b[0m \u001b[32m━━━━━━━━━━━━━━━━━━━━\u001b[0m\u001b[37m\u001b[0m \u001b[1m69s\u001b[0m 229ms/step - accuracy: 0.7219 - loss: 0.5316 - val_accuracy: 0.6994 - val_loss: 0.5873\n",
      "Epoch 6/10\n",
      "\u001b[1m301/301\u001b[0m \u001b[32m━━━━━━━━━━━━━━━━━━━━\u001b[0m\u001b[37m\u001b[0m \u001b[1m56s\u001b[0m 185ms/step - accuracy: 0.7486 - loss: 0.5070 - val_accuracy: 0.7161 - val_loss: 0.6093\n",
      "Epoch 7/10\n",
      "\u001b[1m301/301\u001b[0m \u001b[32m━━━━━━━━━━━━━━━━━━━━\u001b[0m\u001b[37m\u001b[0m \u001b[1m56s\u001b[0m 187ms/step - accuracy: 0.7475 - loss: 0.4802 - val_accuracy: 0.7377 - val_loss: 0.5348\n",
      "Epoch 8/10\n",
      "\u001b[1m301/301\u001b[0m \u001b[32m━━━━━━━━━━━━━━━━━━━━\u001b[0m\u001b[37m\u001b[0m \u001b[1m57s\u001b[0m 189ms/step - accuracy: 0.7527 - loss: 0.4655 - val_accuracy: 0.7369 - val_loss: 0.5109\n",
      "Epoch 9/10\n",
      "\u001b[1m301/301\u001b[0m \u001b[32m━━━━━━━━━━━━━━━━━━━━\u001b[0m\u001b[37m\u001b[0m \u001b[1m57s\u001b[0m 189ms/step - accuracy: 0.7602 - loss: 0.4566 - val_accuracy: 0.7311 - val_loss: 0.5349\n",
      "Epoch 10/10\n",
      "\u001b[1m301/301\u001b[0m \u001b[32m━━━━━━━━━━━━━━━━━━━━\u001b[0m\u001b[37m\u001b[0m \u001b[1m57s\u001b[0m 190ms/step - accuracy: 0.7708 - loss: 0.4257 - val_accuracy: 0.7219 - val_loss: 0.5585\n"
     ]
    },
    {
     "data": {
      "text/plain": [
       "<keras.src.callbacks.history.History at 0x23fcbceed20>"
      ]
     },
     "execution_count": 16,
     "metadata": {},
     "output_type": "execute_result"
    }
   ],
   "source": [
    "datasetX = np.array(all_images)\n",
    "datasetY = np.array(all_categories)\n",
    "\n",
    "xtrain, otherX, ytrain, otherY = train_test_split(datasetX, datasetY, test_size=0.2, random_state=1)\n",
    "xval, testx, yval, testy = train_test_split(otherX, otherY, test_size=0.5, random_state=1)\n",
    "\n",
    "xtrain = xtrain / 255\n",
    "testx = testx / 255\n",
    "xval = xval / 255\n",
    "\n",
    "label_to_index = {\"NORMAL\": 0, \"VIRUS PNEUMONIA\": 1, \"BACTERIA PNEUMONIA\": 2}\n",
    "ytrain = np.array([label_to_index[y] for y in ytrain])\n",
    "testy = np.array([label_to_index[y] for y in testy])\n",
    "yval = np.array([label_to_index[y] for y in yval])\n",
    "\n",
    "random_indices = np.random.choice(ytrain.shape[0], 20, replace=False)\n",
    "print(ytrain[random_indices])\n",
    "\n",
    "model.fit(xtrain,\n",
    "    ytrain,\n",
    "    validation_data=(xval, yval),\n",
    "    epochs=10)"
   ]
  },
  {
   "cell_type": "code",
   "execution_count": 17,
   "metadata": {},
   "outputs": [
    {
     "name": "stdout",
     "output_type": "stream",
     "text": [
      "\u001b[1m38/38\u001b[0m \u001b[32m━━━━━━━━━━━━━━━━━━━━\u001b[0m\u001b[37m\u001b[0m \u001b[1m4s\u001b[0m 93ms/step - accuracy: 0.7299 - loss: 0.4918\n",
      "[0.48860689997673035, 0.731890082359314]\n"
     ]
    }
   ],
   "source": [
    "print(model.evaluate(testx, testy))"
   ]
  },
  {
   "cell_type": "code",
   "execution_count": 18,
   "metadata": {},
   "outputs": [
    {
     "name": "stdout",
     "output_type": "stream",
     "text": [
      "\u001b[1m38/38\u001b[0m \u001b[32m━━━━━━━━━━━━━━━━━━━━\u001b[0m\u001b[37m\u001b[0m \u001b[1m4s\u001b[0m 92ms/step\n"
     ]
    },
    {
     "data": {
      "image/png": "[encoded data removed]",
      "text/plain": [
       "<Figure size 640x480 with 2 Axes>"
      ]
     },
     "metadata": {},
     "output_type": "display_data"
    },
    {
     "name": "stdout",
     "output_type": "stream",
     "text": [
      "[[305 181   5]\n",
      " [ 24 372  60]\n",
      " [  9  43 202]]\n",
      "recall :  0.744082108988172\n",
      "precision :  0.7610274149489779\n",
      "f1score :  0.7394941643826822\n"
     ]
    }
   ],
   "source": [
    "y_pred = model.predict(testx)\n",
    "\n",
    "y_pred_label = np.argmax(y_pred, axis=1)\n",
    "\n",
    "cm = confusion_matrix(testy, y_pred_label)\n",
    "sns.heatmap(cm, annot=True, fmt=\"d\")\n",
    "plt.show()\n",
    "\n",
    "print(cm)\n",
    "recall = recall_score(testy, y_pred_label, average='macro')  # Ajout de average='macro' pour multi-classe\n",
    "precision = precision_score(testy, y_pred_label, average='macro')\n",
    "f1score = f1_score(testy, y_pred_label, average='macro')\n",
    "print(\"recall : \", recall)\n",
    "print(\"precision : \", precision)\n",
    "print(\"f1score : \", f1score)"
   ]
  },
  {
   "cell_type": "markdown",
   "metadata": {},
   "source": [
    "#### Classification Report"
   ]
  },
  {
   "cell_type": "code",
   "execution_count": 86,
   "metadata": {},
   "outputs": [
    {
     "name": "stdout",
     "output_type": "stream",
     "text": [
      "                    precision    recall  f1-score   support\n",
      "\n",
      "            NORMAL       0.98      0.94      0.96       483\n",
      "   VIRUS PNEUMONIA       0.61      0.56      0.58       145\n",
      "BACTERIA PNEUMONIA       0.77      0.85      0.81       275\n",
      "\n",
      "          accuracy                           0.85       903\n",
      "         macro avg       0.79      0.79      0.79       903\n",
      "      weighted avg       0.86      0.85      0.85       903\n",
      "\n"
     ]
    }
   ],
   "source": [
    "from sklearn.metrics import classification_report\n",
    "\n",
    "# Assuming y_pred_label contains the predicted class labels as shown in your code\n",
    "labels = ['NORMAL', 'VIRUS PNEUMONIA', 'BACTERIA PNEUMONIA']\n",
    "\n",
    "# Generate the classification report using the true labels and predicted labels\n",
    "report = classification_report(testy, y_pred_label, target_names=labels)\n",
    "\n",
    "print(report)"
   ]
  }
 ],
 "metadata": {
  "kernelspec": {
   "display_name": "Python 3",
   "language": "python",
   "name": "python3"
  },
  "language_info": {
   "codemirror_mode": {
    "name": "ipython",
    "version": 3
   },
   "file_extension": ".py",
   "mimetype": "text/x-python",
   "name": "python",
   "nbconvert_exporter": "python",
   "pygments_lexer": "ipython3",
   "version": "3.12.4"
  }
 },
 "nbformat": 4,
 "nbformat_minor": 2
}
