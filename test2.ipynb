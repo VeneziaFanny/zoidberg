{
 "cells": [
  {
   "cell_type": "code",
   "execution_count": 2,
   "metadata": {
    "collapsed": false
   },
   "outputs": [],
   "source": [
    "# cellules générales, à exécuter en premier"
   ]
  },
  {
   "cell_type": "code",
   "execution_count": 2,
   "metadata": {
    "ExecuteTime": {
     "end_time": "2024-05-30T20:16:04.427630Z",
     "start_time": "2024-05-30T20:16:04.138723Z"
    }
   },
   "outputs": [],
   "source": [
    "import os\n",
    "import cv2\n",
    "import numpy as np\n",
    "import matplotlib.pyplot as plt\n",
    "import seaborn as sns\n",
    "import pandas as pd\n",
    "\n",
    "from sklearn.pipeline import make_pipeline\n",
    "from sklearn.model_selection import train_test_split\n",
    "#from sklearn.model_selection import cross_validate, ValidationCurveDisplay, GridSearchCV\n",
    "from sklearn.model_selection import cross_validate, GridSearchCV\n",
    "from sklearn.metrics import make_scorer, recall_score, precision_score, f1_score, confusion_matrix\n",
    "\n",
    "from sklearn.dummy import DummyClassifier\n",
    "from sklearn.neighbors import KNeighborsClassifier\n",
    "from sklearn.tree import DecisionTreeClassifier\n",
    "from sklearn.ensemble import RandomForestClassifier\n",
    "from sklearn.linear_model import SGDClassifier\n",
    "from sklearn.linear_model import LogisticRegression"
   ]
  },
  {
   "cell_type": "code",
   "execution_count": 6,
   "metadata": {
    "ExecuteTime": {
     "end_time": "2024-05-30T20:16:04.435143Z",
     "start_time": "2024-05-30T20:16:04.429669Z"
    }
   },
   "outputs": [],
   "source": [
    "common_path = \"./chest_Xray\"\n",
    "images_files = os.listdir(common_path)\n",
    "subfolders = [\"train\", \"val\", \"test\"]\n",
    "categories = [\"NORMAL\", \"PNEUMONIA\"]\n",
    "\n",
    "\n",
    "# Permet de parcourir les images, et pour chaque image, on applique une fonction de callback\n",
    "# On peut optionnellement appeler une fonction de callback pour chaque dossier\n",
    "def browse_imgs(img_callback, path_folder_callback=None, limit_size=None):\n",
    "    for subfolder in subfolders:\n",
    "        for category in categories:\n",
    "            # pour avoir tous les chemins des 6 dossiers\n",
    "            folder_path = os.path.join(common_path, subfolder, category)\n",
    "            # liste de toutes les images\n",
    "            images_files = os.listdir(folder_path)\n",
    "            if path_folder_callback is not None:\n",
    "                path_folder_callback(folder_path, images_files)\n",
    "            array_limit = limit_size if limit_size is not None else len(images_files)\n",
    "            #récupération de toutes les (ou des 'limit_size' premières) images du dossier.\n",
    "            for file_name in images_files[:array_limit]:\n",
    "                if not file_name.endswith(\".jpeg\"):\n",
    "                    continue\n",
    "                image_path = os.path.join(folder_path, file_name)\n",
    "                img = cv2.imread(image_path, cv2.IMREAD_GRAYSCALE)\n",
    "                img_callback(img, category)"
   ]
  },
  {
   "cell_type": "code",
   "execution_count": 7,
   "metadata": {
    "ExecuteTime": {
     "end_time": "2024-05-30T20:16:34.023703Z",
     "start_time": "2024-05-30T20:16:04.436834Z"
    },
    "collapsed": false
   },
   "outputs": [
    {
     "name": "stdout",
     "output_type": "stream",
     "text": [
      "Dataset shape :  (5856, 10000)\n"
     ]
    }
   ],
   "source": [
    "datasetX = []\n",
    "datasetY = []\n",
    "\n",
    "image_size = (100, 100)\n",
    "\n",
    "\n",
    "def load_datasets(img, category):\n",
    "    new_img = cv2.resize(img, image_size)\n",
    "    datasetX.append(new_img)\n",
    "    datasetY.append(category)\n",
    "\n",
    "\n",
    "browse_imgs(load_datasets)\n",
    "datasetX = np.array(datasetX).reshape(-1, image_size[0] * image_size[1])\n",
    "trainx, testx, trainy, testy = train_test_split(datasetX, datasetY, test_size=0.2, random_state=1)\n",
    "print(\"Dataset shape : \", datasetX.shape)"
   ]
  },
  {
   "cell_type": "markdown",
   "metadata": {
    "collapsed": false
   },
   "source": [
    "\n",
    "# A prendre pour la prochaine fois\n",
    "\n",
    "la boucle for qui stock les means et std au lieux des res de chaque fold"
   ]
  },
  {
   "cell_type": "code",
   "execution_count": 8,
   "metadata": {
    "ExecuteTime": {
     "end_time": "2024-05-30T20:16:34.028783Z",
     "start_time": "2024-05-30T20:16:34.025631Z"
    }
   },
   "outputs": [],
   "source": [
    "def cross_val(model, scoring, nb_folds=5):\n",
    "    res = cross_validate(model, datasetX, datasetY, cv=nb_folds, scoring=scoring, error_score=\"raise\",\n",
    "                        return_train_score=True)\n",
    "    res.pop(\"fit_time\")\n",
    "    res.pop(\"score_time\")\n",
    "    for dataset_key in res:\n",
    "        mean = res[dataset_key].mean()\n",
    "        std = res[dataset_key].std()\n",
    "        res[dataset_key] = {\"mean\": mean, \"std\": std}\n",
    "    return pd.DataFrame(res)"
   ]
  },
  {
   "cell_type": "code",
   "execution_count": 9,
   "metadata": {
    "ExecuteTime": {
     "end_time": "2024-05-30T20:16:34.033754Z",
     "start_time": "2024-05-30T20:16:34.029620Z"
    },
    "collapsed": false
   },
   "outputs": [],
   "source": [
    "def calcul_and_show_confusion_matrix(model):\n",
    "    model.fit(trainx, trainy)\n",
    "\n",
    "    y_pred = model.predict(testx)\n",
    "    recall = recall_score(testy, y_pred, pos_label=\"PNEUMONIA\")\n",
    "    precision = precision_score(testy, y_pred, pos_label=\"PNEUMONIA\")\n",
    "    f1score = f1_score(testy, y_pred, pos_label=\"PNEUMONIA\")\n",
    "    print(\"recall : \", recall)\n",
    "    print(\"precision : \", precision)\n",
    "    print(\"f1score : \", f1score)\n",
    "\n",
    "    cm = confusion_matrix(testy, y_pred)\n",
    "    sns.heatmap(cm, annot=True, fmt=\"d\")\n",
    "    plt.show()"
   ]
  },
  {
   "cell_type": "code",
   "execution_count": 10,
   "metadata": {
    "ExecuteTime": {
     "end_time": "2024-05-30T20:16:34.037460Z",
     "start_time": "2024-05-30T20:16:34.034667Z"
    },
    "collapsed": false
   },
   "outputs": [],
   "source": [
    "general_scoring = {\n",
    "    \"recall\": make_scorer(recall_score, pos_label=\"PNEUMONIA\"),\n",
    "    \"precision\": make_scorer(precision_score, pos_label=\"PNEUMONIA\"),\n",
    "    \"f1\": make_scorer(f1_score, pos_label=\"PNEUMONIA\")\n",
    "}"
   ]
  },
  {
   "cell_type": "code",
   "execution_count": 9,
   "metadata": {},
   "outputs": [
    {
     "name": "stdout",
     "output_type": "stream",
     "text": [
      "      test_recall  train_recall  test_precision  train_precision   test_f1  \\\n",
      "mean     0.951789           1.0        0.943803              1.0  0.946450   \n",
      "std      0.018855           0.0        0.054453              0.0  0.023254   \n",
      "\n",
      "      train_f1  \n",
      "mean       1.0  \n",
      "std        0.0  \n",
      "recall :  0.966743119266055\n",
      "precision :  0.9612314709236032\n",
      "f1score :  0.9639794168096055\n"
     ]
    },
    {
     "data": {
      "image/png": "[encoded data removed]",
      "text/plain": [
       "<Figure size 640x480 with 2 Axes>"
      ]
     },
     "metadata": {},
     "output_type": "display_data"
    }
   ],
   "source": [
    "model = LogisticRegression(max_iter=1000)\n",
    "\n",
    "print(cross_val(model, general_scoring))\n",
    "\n",
    "calcul_and_show_confusion_matrix(model)"
   ]
  },
  {
   "cell_type": "code",
   "execution_count": 10,
   "metadata": {},
   "outputs": [],
   "source": [
    "# param_grid = {\n",
    "#     'C': [0.01, 0.1, 1, 10, 100],\n",
    "#     'solver': ['liblinear', 'lbfgs', 'newton-cg', 'saga'],\n",
    "#     'penalty': ['l2', 'none']\n",
    "# }\n",
    "\n",
    "# model = LogisticRegression(max_iter=1000)\n",
    "\n",
    "# grid_search = GridSearchCV(model, param_grid, cv=4, scoring=general_scoring, refit=\"f1\", verbose=3, return_train_score=True)\n",
    "# grid_search.fit(datasetX, datasetY)\n",
    "\n",
    "# print(\"best params : \", grid_search.best_params_)\n",
    "\n",
    "# model = grid_search.best_estimator_\n",
    "\n",
    "# print(cross_val(model, general_scoring))\n",
    "\n",
    "# calcul_and_show_confusion_matrix(model)"
   ]
  },
  {
   "cell_type": "markdown",
   "metadata": {},
   "source": [
    "# Logistic regression "
   ]
  },
  {
   "cell_type": "code",
   "execution_count": 11,
   "metadata": {},
   "outputs": [
    {
     "name": "stderr",
     "output_type": "stream",
     "text": [
      "c:\\Users\\Timothée\\AppData\\Local\\Programs\\Python\\Python311\\Lib\\site-packages\\sklearn\\linear_model\\_sag.py:349: ConvergenceWarning: The max_iter was reached which means the coef_ did not converge\n",
      "  warnings.warn(\n",
      "c:\\Users\\Timothée\\AppData\\Local\\Programs\\Python\\Python311\\Lib\\site-packages\\sklearn\\linear_model\\_sag.py:349: ConvergenceWarning: The max_iter was reached which means the coef_ did not converge\n",
      "  warnings.warn(\n",
      "c:\\Users\\Timothée\\AppData\\Local\\Programs\\Python\\Python311\\Lib\\site-packages\\sklearn\\linear_model\\_sag.py:349: ConvergenceWarning: The max_iter was reached which means the coef_ did not converge\n",
      "  warnings.warn(\n",
      "c:\\Users\\Timothée\\AppData\\Local\\Programs\\Python\\Python311\\Lib\\site-packages\\sklearn\\linear_model\\_sag.py:349: ConvergenceWarning: The max_iter was reached which means the coef_ did not converge\n",
      "  warnings.warn(\n",
      "c:\\Users\\Timothée\\AppData\\Local\\Programs\\Python\\Python311\\Lib\\site-packages\\sklearn\\linear_model\\_sag.py:349: ConvergenceWarning: The max_iter was reached which means the coef_ did not converge\n",
      "  warnings.warn(\n"
     ]
    },
    {
     "name": "stdout",
     "output_type": "stream",
     "text": [
      "      test_recall  train_recall  test_precision  train_precision   test_f1  \\\n",
      "mean     0.953895      0.999532        0.951264              1.0  0.951288   \n",
      "std      0.018537      0.000234        0.054571              0.0  0.023630   \n",
      "\n",
      "      train_f1  \n",
      "mean  0.999766  \n",
      "std   0.000117  \n",
      "recall :  0.9644495412844036\n",
      "precision :  0.9622425629290617\n",
      "f1score :  0.9633447880870561\n"
     ]
    },
    {
     "name": "stderr",
     "output_type": "stream",
     "text": [
      "c:\\Users\\Timothée\\AppData\\Local\\Programs\\Python\\Python311\\Lib\\site-packages\\sklearn\\linear_model\\_sag.py:349: ConvergenceWarning: The max_iter was reached which means the coef_ did not converge\n",
      "  warnings.warn(\n"
     ]
    },
    {
     "data": {
      "image/png": "[encoded data removed]",
      "text/plain": [
       "<Figure size 640x480 with 2 Axes>"
      ]
     },
     "metadata": {},
     "output_type": "display_data"
    }
   ],
   "source": [
    "model = LogisticRegression(max_iter=2000, C= 0.1, penalty= 'l2', solver= 'saga', class_weight='balanced')\n",
    "\n",
    "print(cross_val(model, general_scoring))\n",
    "\n",
    "calcul_and_show_confusion_matrix(model)"
   ]
  },
  {
   "cell_type": "code",
   "execution_count": 19,
   "metadata": {},
   "outputs": [
    {
     "name": "stdout",
     "output_type": "stream",
     "text": [
      "Fitting 4 folds for each of 81 candidates, totalling 324 fits\n",
      "best params :  {'learning_rate': 0.1, 'max_depth': 5, 'n_estimators': 300, 'subsample': 0.9}\n",
      "      test_recall  train_recall  test_precision  train_precision   test_f1  \\\n",
      "mean     0.976129           1.0        0.941460              1.0  0.957143   \n",
      "std      0.006562           0.0        0.064134              0.0  0.033141   \n",
      "\n",
      "      train_f1  \n",
      "mean       1.0  \n",
      "std        0.0  \n",
      "recall :  0.9770642201834863\n",
      "precision :  0.9583802024746907\n",
      "f1score :  0.9676320272572402\n"
     ]
    },
    {
     "data": {
      "image/png": "[encoded data removed]",
      "text/plain": [
       "<Figure size 640x480 with 2 Axes>"
      ]
     },
     "metadata": {},
     "output_type": "display_data"
    }
   ],
   "source": [
    "from sklearn.ensemble import GradientBoostingClassifier\n",
    "from joblib import parallel_backend\n",
    "\n",
    "model = GradientBoostingClassifier()\n",
    "param_grid = {\n",
    "    'n_estimators': [100, 200, 300],\n",
    "    'learning_rate': [0.01, 0.1, 0.2],\n",
    "    'max_depth': [3, 5, 7],\n",
    "    'subsample': [0.8, 0.9, 1.0]\n",
    "}\n",
    "\n",
    "grid_search = GridSearchCV(model, param_grid, n_jobs=-1, cv=4, scoring=general_scoring, refit=\"f1\", verbose=10, return_train_score=True)\n",
    "with parallel_backend('multiprocessing'):\n",
    "    grid_search.fit(datasetX, datasetY)\n",
    "\n",
    "print(\"best params : \", grid_search.best_params_)\n",
    "\n",
    "model = grid_search.best_estimator_\n",
    "\n",
    "print(cross_val(model, general_scoring))\n",
    "\n",
    "calcul_and_show_confusion_matrix(model)"
   ]
  }
 ],
 "metadata": {
  "kernelspec": {
   "display_name": "Python 3",
   "language": "python",
   "name": "python3"
  },
  "language_info": {
   "codemirror_mode": {
    "name": "ipython",
    "version": 3
   },
   "file_extension": ".py",
   "mimetype": "text/x-python",
   "name": "python",
   "nbconvert_exporter": "python",
   "pygments_lexer": "ipython3",
   "version": "3.11.6"
  }
 },
 "nbformat": 4,
 "nbformat_minor": 2
}
