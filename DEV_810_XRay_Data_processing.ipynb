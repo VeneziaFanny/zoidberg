{
 "cells": [
  {
   "cell_type": "code",
   "execution_count": 21,
   "metadata": {
    "ExecuteTime": {
     "end_time": "2024-05-28T08:04:46.079761Z",
     "start_time": "2024-05-28T08:04:45.239211Z"
    }
   },
   "outputs": [],
   "source": [
    "import os \n",
    "import cv2\n",
    "import numpy as np \n",
    "import matplotlib.pyplot as plt\n",
    "import seaborn as sns\n",
    "\n",
    "from sklearn.model_selection import train_test_split\n",
    "from sklearn.model_selection import cross_validate\n",
    "from sklearn.pipeline import make_pipeline\n",
    "from sklearn.dummy import DummyClassifier\n",
    "from sklearn.neighbors import KNeighborsClassifier\n",
    "\n",
    "from sklearn.metrics import accuracy_score, recall_score, precision_score, f1_score, confusion_matrix"
   ]
  },
  {
   "cell_type": "code",
   "execution_count": 2,
   "metadata": {
    "ExecuteTime": {
     "end_time": "2024-05-28T08:04:46.088477Z",
     "start_time": "2024-05-28T08:04:46.081705Z"
    }
   },
   "outputs": [],
   "source": [
    "common_path = \"./chest_Xray\"\n",
    "images_files = os.listdir(common_path)\n",
    "subfolders = [\"train\",\"val\",\"test\"]\n",
    "categories = [\"NORMAL\",\"PNEUMONIA\"]\n",
    "\n",
    "# Permet de parcourir les images, et pour chaque image, on applique une fonction de callback\n",
    "# On peut optionnellement appeler une fonction de callback pour chaque dossier\n",
    "def browse_imgs(img_callback, path_folder_callback = None, limit_size = None):\n",
    "    for subfolder in subfolders:\n",
    "        for category in categories:\n",
    "            # pour avoir tous les chemins des 6 dossiers\n",
    "            folder_path = os.path.join(common_path, subfolder, category)\n",
    "            # liste de toutes les images\n",
    "            images_files = os.listdir(folder_path)\n",
    "            if path_folder_callback is not None:\n",
    "                path_folder_callback(folder_path, images_files)\n",
    "            array_limit = limit_size if limit_size is not None else len(images_files)\n",
    "            #récupération de toutes les (ou des 'limit_size' premières) images du dossier.\n",
    "            for file_name in images_files[:array_limit]:\n",
    "                if not file_name.endswith(\".jpeg\"):\n",
    "                    continue\n",
    "                image_path = os.path.join(folder_path,file_name)\n",
    "                img = cv2.imread(image_path,cv2.IMREAD_GRAYSCALE)\n",
    "                img_callback(img, category, subfolder)\n",
    "                \n",
    "                \n",
    "def display_imgs(imgs, titles = [], plot_size = (1,1), figsize = (10,8)):\n",
    "    fig = plt.figure(figsize=figsize)\n",
    "    index = 0\n",
    "    for image, title in zip(imgs, titles):\n",
    "        index += 1\n",
    "        ax = fig.add_subplot(plot_size[0], plot_size[1], index) \n",
    "        ax.imshow(image, cmap=\"gray\")\n",
    "        ax.axis(\"off\")\n",
    "        if titles is not None:\n",
    "            ax.set_title(title)\n",
    "\n",
    "    plt.tight_layout()\n",
    "    plt.show()"
   ]
  },
  {
   "cell_type": "code",
   "execution_count": 3,
   "metadata": {
    "ExecuteTime": {
     "end_time": "2024-05-28T08:04:46.092278Z",
     "start_time": "2024-05-28T08:04:46.089601Z"
    },
    "collapsed": false
   },
   "outputs": [],
   "source": [
    "def img_is_in_ratio(img, min_ratio = 1, max_ratio = 1.5):\n",
    "    height, width = img.shape\n",
    "    ratio = width / height\n",
    "    if min_ratio <= ratio <= max_ratio:\n",
    "        return True\n",
    "    else:\n",
    "        return False"
   ]
  },
  {
   "cell_type": "code",
   "execution_count": 4,
   "metadata": {
    "ExecuteTime": {
     "end_time": "2024-05-28T08:04:46.095704Z",
     "start_time": "2024-05-28T08:04:46.093391Z"
    },
    "collapsed": false
   },
   "outputs": [],
   "source": [
    "grey_scale_limit = 10\n",
    "\n",
    "def img_has_atleast_black_pixels(img, threshold = 5):\n",
    "    height, width = img.shape\n",
    "    percent = (np.sum(img <= grey_scale_limit)*100)/(width*height)\n",
    "    return percent >= threshold"
   ]
  },
  {
   "cell_type": "code",
   "execution_count": 5,
   "metadata": {
    "ExecuteTime": {
     "start_time": "2024-05-28T08:04:46.096463Z"
    },
    "collapsed": false,
    "is_executing": true
   },
   "outputs": [],
   "source": [
    "all_images = []\n",
    "all_categories = []\n",
    "\n",
    "max_ratio_threshold = 1.6\n",
    "all_images_index_ratio = []\n",
    "\n",
    "min_black_pixels_threshold = 5\n",
    "all_images_indexes_black_pixels = []\n",
    "\n",
    "all_images_index_ratio_and_black_pixels = []\n",
    "\n",
    "datasetX = []\n",
    "datasetY = []\n",
    "\n",
    "image_size = (800, 800)\n",
    "\n",
    "def load_datasets(img, category, subfolder):\n",
    "    new_img = cv2.resize(img, image_size)\n",
    "    all_images.append(new_img)\n",
    "    all_categories.append(category)\n",
    "\n",
    "    if img_is_in_ratio(img, max_ratio=max_ratio_threshold):\n",
    "        all_images_index_ratio.append(len(all_images)-1)\n",
    "\n",
    "    if img_has_atleast_black_pixels(img, threshold=min_black_pixels_threshold):\n",
    "        all_images_indexes_black_pixels.append(len(all_images)-1)\n",
    "\n",
    "    if img_has_atleast_black_pixels(img, threshold=min_black_pixels_threshold) and img_is_in_ratio(img, max_ratio=max_ratio_threshold):\n",
    "        all_images_index_ratio_and_black_pixels.append(len(all_images)-1)\n",
    "\n",
    "    \n",
    "browse_imgs(load_datasets)\n",
    "\n",
    "def use_all_dataset():\n",
    "    global datasetX, datasetY\n",
    "    datasetX = np.array(all_images)\n",
    "    datasetY = np.array(all_categories)\n",
    " \n",
    "def use_ratio_dataset():\n",
    "    global datasetX, datasetY\n",
    "    datasetX = np.array([all_images[i] for i in all_images_index_ratio])\n",
    "    datasetY = np.array([all_categories[i] for i in all_images_index_ratio])\n",
    "\n",
    "def use_black_pixel_dataset():\n",
    "    global datasetX, datasetY\n",
    "    datasetX = np.array([all_images[i] for i in all_images_indexes_black_pixels])\n",
    "    datasetY = np.array([all_categories[i] for i in all_images_indexes_black_pixels])\n",
    "\n",
    "def use_ratio_black_pixel_dataset():\n",
    "    global datasetX, datasetY\n",
    "    datasetX = np.array([all_images[i] for i in all_images_index_ratio_and_black_pixels])\n",
    "    datasetY = np.array([all_categories[i] for i in all_images_index_ratio_and_black_pixels])\n",
    "\n",
    "# use_all_dataset()\n",
    "# print(\"Dataset all shape : \", datasetX.shape)\n",
    "# use_black_pixel_dataset()\n",
    "# print(\"Dataset bp shape : \", datasetX.shape)\n",
    "# use_ratio_dataset()\n",
    "# print(\"Dataset ration shape : \", datasetX.shape)\n",
    "# use_ratio_black_pixel_dataset()\n",
    "# print(\"Dataset bp+ratio shape : \", datasetX.shape)\n"
   ]
  },
  {
   "cell_type": "code",
   "execution_count": null,
   "metadata": {},
   "outputs": [],
   "source": [
    "# def cross_val(model, load_dataset_function, scoring, nb_folds=5):\n",
    "#     load_dataset_function()\n",
    "#     return cross_validate(model, datasetX, datasetY, cv=nb_folds, scoring=scoring)\n",
    "\n",
    "# def fit_and_score_each_dataset(model, scoring):\n",
    "#     res = {}\n",
    "\n",
    "#     res[\"all\"] = (cross_val(model, use_all_dataset, scoring))\n",
    "    \n",
    "#     use_all_dataset()\n",
    "#     X_train, X_test, y_train, y_test = train_test_split(datasetX, datasetY, test_size=0.2, random_state=1)\n",
    "#     model.fit(X_train, y_train)\n",
    "#     res[\"all\"] = model.score(X_test, y_test)\n",
    "    \n",
    "#     use_black_pixel_dataset()\n",
    "#     X_train, X_test, y_train, y_test = train_test_split(datasetX, datasetY, test_size=0.2, random_state=1)\n",
    "#     model.fit(X_train, y_train)\n",
    "#     res[\"black_pixel\"] = model.score(X_test, y_test)\n",
    "    \n",
    "#     use_ratio_dataset()\n",
    "#     X_train, X_test, y_train, y_test = train_test_split(datasetX, datasetY, test_size=0.2, random_state=1)\n",
    "#     model.fit(X_train, y_train)\n",
    "#     res[\"ratio\"] = model.score(X_test, y_test)\n",
    "    \n",
    "#     use_ratio_black_pixel_dataset()\n",
    "#     X_train, X_test, y_train, y_test = train_test_split(datasetX, datasetY, test_size=0.2, random_state=1)\n",
    "#     model.fit(X_train, y_train)\n",
    "#     res[\"ratio_black_pixel\"] = model.score(X_test, y_test)"
   ]
  },
  {
   "cell_type": "code",
   "execution_count": 24,
   "metadata": {
    "is_executing": true
   },
   "outputs": [],
   "source": [
    "def fit_and_score_each_dataset(model):\n",
    "    res = {}\n",
    "    \n",
    "    use_all_dataset()\n",
    "    X_train, X_test, y_train, y_test = train_test_split(datasetX, datasetY, test_size=0.2, random_state=1)\n",
    "    model.fit(X_train, y_train)\n",
    "    res[\"all\"] = model.score(X_test, y_test)\n",
    "    y_pred = model.predict(X_test)\n",
    "    recall = recall_score(y_test, y_pred, average='macro')\n",
    "    print(\"Recall all : \", recall)\n",
    "\n",
    "    digits = [\"NORMAL\", \"PNEUMONIA\"]\n",
    "    # Compute the confusion matrix\n",
    "    cm = confusion_matrix(y_test, y_pred)\n",
    "\n",
    "    # Plot the confusion matrix\n",
    "    plt.figure(figsize=(15, 5)) # 10, 8\n",
    "    sns.heatmap(cm, annot=True, cmap='Blues', fmt='d', xticklabels=digits, yticklabels=digits)\n",
    "    plt.xlabel('Predicted')\n",
    "    plt.ylabel('True')\n",
    "    plt.title('Confusion Matrix')\n",
    "    plt.show()\n",
    "    \n",
    "    use_black_pixel_dataset()\n",
    "    X_train, X_test, y_train, y_test = train_test_split(datasetX, datasetY, test_size=0.2, random_state=1)\n",
    "    model.fit(X_train, y_train)\n",
    "    res[\"black_pixel\"] = model.score(X_test, y_test)\n",
    "    y_pred = model.predict(X_test)\n",
    "    recall = recall_score(y_test, y_pred, average='macro')\n",
    "    print(\"Recall black_pixel : \", recall)\n",
    "    \n",
    "    use_ratio_dataset()\n",
    "    X_train, X_test, y_train, y_test = train_test_split(datasetX, datasetY, test_size=0.2, random_state=1)\n",
    "    model.fit(X_train, y_train)\n",
    "    res[\"ratio\"] = model.score(X_test, y_test)\n",
    "    y_pred = model.predict(X_test)\n",
    "    recall = recall_score(y_test, y_pred, average='macro')\n",
    "    print(\"Recall ratio : \", recall)\n",
    "    digits = [\"NORMAL\", \"PNEUMONIA\"]\n",
    "    # Compute the confusion matrix\n",
    "    cm = confusion_matrix(y_test, y_pred)\n",
    "\n",
    "    # Plot the confusion matrix\n",
    "    plt.figure(figsize=(15, 5)) # 10, 8\n",
    "    sns.heatmap(cm, annot=True, cmap='Blues', fmt='d', xticklabels=digits, yticklabels=digits)\n",
    "    plt.xlabel('Predicted')\n",
    "    plt.ylabel('True')\n",
    "    plt.title('Confusion Matrix')\n",
    "    plt.show()\n",
    "    \n",
    "    use_ratio_black_pixel_dataset()\n",
    "    X_train, X_test, y_train, y_test = train_test_split(datasetX, datasetY, test_size=0.2, random_state=1)\n",
    "    model.fit(X_train, y_train)\n",
    "    res[\"ratio_black_pixel\"] = model.score(X_test, y_test)\n",
    "    y_pred = model.predict(X_test)\n",
    "    recall = recall_score(y_test, y_pred, average='macro')\n",
    "    print(\"Recall ratio_black_pixel : \", recall)\n",
    "    \n",
    "    return res"
   ]
  },
  {
   "cell_type": "code",
   "execution_count": 26,
   "metadata": {
    "collapsed": false,
    "is_executing": true
   },
   "outputs": [],
   "source": [
    "class ResizeImageTransformer():\n",
    "    def __init__(self, size):\n",
    "        self.size = size\n",
    "        \n",
    "    def fit(self, X, y=None):\n",
    "        return self\n",
    "\n",
    "    def transform(self, X, y=None):\n",
    "        X = np.array([cv2.resize(img, self.size) for img in X])\n",
    "        return X\n",
    "\n",
    "# Flatten = passer de la matrice (3D) à un tableau (2D)\n",
    "class FlattenTransformer():    \n",
    "    def fit(self, X, y=None):\n",
    "        return self\n",
    "\n",
    "    def transform(self, X, y=None):\n",
    "        X = X.reshape(len(X), -1)\n",
    "        return X"
   ]
  },
  {
   "cell_type": "code",
   "execution_count": null,
   "metadata": {},
   "outputs": [],
   "source": [
    "general_scoring = (\"accuracy\", \"precision\", \"recall\", \"f1\")"
   ]
  },
  {
   "cell_type": "code",
   "execution_count": 14,
   "metadata": {
    "collapsed": false,
    "is_executing": true
   },
   "outputs": [
    {
     "data": {
      "text/plain": [
       "{'all': 0.7440273037542662,\n",
       " 'black_pixel': 0.5613207547169812,\n",
       " 'ratio': 0.6764374295377678,\n",
       " 'ratio_black_pixel': 0.5289421157684631}"
      ]
     },
     "execution_count": 14,
     "metadata": {},
     "output_type": "execute_result"
    }
   ],
   "source": [
    "model = make_pipeline(\n",
    "    FlattenTransformer(),\n",
    "    DummyClassifier(strategy=\"most_frequent\")\n",
    ")\n",
    "\n",
    "fit_and_score_each_dataset(model)"
   ]
  },
  {
   "cell_type": "code",
   "execution_count": 25,
   "metadata": {
    "collapsed": false,
    "is_executing": true
   },
   "outputs": [
    {
     "name": "stdout",
     "output_type": "stream",
     "text": [
      "Recall all :  0.8546788990825688\n"
     ]
    },
    {
     "data": {
      "image/png": "[encoded data removed]",
      "text/plain": [
       "<Figure size 1500x500 with 2 Axes>"
      ]
     },
     "metadata": {},
     "output_type": "display_data"
    },
    {
     "name": "stdout",
     "output_type": "stream",
     "text": [
      "Recall black_pixel :  0.8678804855275444\n",
      "Recall ratio :  0.8919076655052265\n"
     ]
    },
    {
     "data": {
      "image/png": "[encoded data removed]",
      "text/plain": [
       "<Figure size 1500x500 with 2 Axes>"
      ]
     },
     "metadata": {},
     "output_type": "display_data"
    },
    {
     "name": "stdout",
     "output_type": "stream",
     "text": [
      "Recall ratio_black_pixel :  0.8852654301247203\n"
     ]
    },
    {
     "data": {
      "text/plain": [
       "{'all': 0.9155290102389079,\n",
       " 'black_pixel': 0.8789308176100629,\n",
       " 'ratio': 0.9177001127395716,\n",
       " 'ratio_black_pixel': 0.8862275449101796}"
      ]
     },
     "execution_count": 25,
     "metadata": {},
     "output_type": "execute_result"
    }
   ],
   "source": [
    "model = make_pipeline(\n",
    "    ResizeImageTransformer(size=(200,200)),\n",
    "    FlattenTransformer(),\n",
    "    KNeighborsClassifier(n_neighbors=5)\n",
    ")\n",
    "\n",
    "fit_and_score_each_dataset(model)"
   ]
  },
  {
   "cell_type": "code",
   "execution_count": null,
   "metadata": {
    "collapsed": false,
    "is_executing": true
   },
   "outputs": [],
   "source": [
    "# model = make_pipeline(\n",
    "#     FlattenTransformer(),\n",
    "#     KNeighborsClassifier(n_neighbors=5)\n",
    "# )\n",
    "# \n",
    "# use_ratio_black_pixel_dataset()\n",
    "# X_train, X_test, y_train, y_test = train_test_split(datasetX, datasetY, test_size=0.2, random_state=1)\n",
    "# model.fit(X_train, y_train)\n",
    "# print(\"accuracy : \", model.score(X_test, y_test))"
   ]
  }
 ],
 "metadata": {
  "kernelspec": {
   "display_name": "Python 3",
   "language": "python",
   "name": "python3"
  },
  "language_info": {
   "codemirror_mode": {
    "name": "ipython",
    "version": 3
   },
   "file_extension": ".py",
   "mimetype": "text/x-python",
   "name": "python",
   "nbconvert_exporter": "python",
   "pygments_lexer": "ipython3",
   "version": "3.12.2"
  }
 },
 "nbformat": 4,
 "nbformat_minor": 2
}
