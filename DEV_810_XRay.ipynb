{
 "cells": [
  {
   "cell_type": "markdown",
   "metadata": {},
   "source": [
    "1- Import XRay Images\n"
   ]
  },
  {
   "cell_type": "code",
   "metadata": {},
   "source": [
    "import os \n",
    "import cv2\n",
    "import numpy as np \n",
    "# traitement dataframe\n",
    "import pandas as pd\n",
    "# apprentissage automatique\n",
    "import tensorflow as tf\n",
    "# permet de faire des graphiques\n",
    "import matplotlib.pyplot as plt\n"
   ],
   "outputs": [],
   "execution_count": null
  },
  {
   "cell_type": "markdown",
   "metadata": {},
   "source": [
    "2- Class XrayLoader"
   ]
  },
  {
   "cell_type": "code",
   "metadata": {
    "ExecuteTime": {
     "end_time": "2024-04-16T09:07:59.777579Z",
     "start_time": "2024-04-16T09:07:59.765439Z"
    }
   },
   "source": [
    "class XrayLoader:\n",
    "    def __init__(self, x_train=None, y_train=None, x_val=None, y_val=None, x_test=None, y_test=None):\n",
    "        self.x_train = x_train\n",
    "        self.y_train = y_train\n",
    "        self.x_val = x_val\n",
    "        self.y_val = y_val\n",
    "        self.x_test = x_test\n",
    "        self.y_test = y_test\n",
    "        self.data_folder = './chest_Xray'\n",
    "        self.image_size = (256,256)\n",
    "        self.batch_size = 5\n",
    "\n",
    "    def load_data(self):\n",
    "        subfolders = [\"train\",\"val\",\"test\"]\n",
    "        categories = [\"NORMAL\",\"PNEUMONIA\"]\n",
    "        data = {}\n",
    "\n",
    "        for subfolder in subfolders:\n",
    "            data[subfolder] = {\"x\":[],\"y\":[]}\n",
    "            for category in categories:\n",
    "                # pour avoir tous les chemins des 6 dossiers\n",
    "                folder_path = os.path.join(self.data_folder,subfolder,category)\n",
    "                # liste de toutes les images\n",
    "                images_files = os.listdir(folder_path)\n",
    "                for file_name in images_files:\n",
    "                    image_path = os.path.join(folder_path,file_name)\n",
    "                    img = cv2.imread(image_path,cv2.IMREAD_GRAYSCALE)\n",
    "                    img = cv2.resize(img,(256,256))\n",
    "                    data[subfolder][\"x\"].append(img)\n",
    "                    data[subfolder][\"y\"].append(category)\n",
    "        \n",
    "        self.x_train = np.array(data[\"train\"][\"x\"])\n",
    "        self.y_train = data[\"train\"][\"y\"]\n",
    "        self.x_val = np.array(data[\"val\"][\"x\"])\n",
    "        self.y_val = data[\"val\"][\"y\"]\n",
    "        self.x_test = np.array(data[\"test\"][\"x\"])\n",
    "        self.y_test = data[\"test\"][\"y\"]\n",
    "    \n",
    "    def load_data_faster(self):\n",
    "        (self.x_train, self.y_train) = self.make_dataset(self.data_folder+'/train', self.batch_size, self.image_size)\n",
    "        (self.x_val, self.y_val) = self.make_dataset(self.data_folder+'/val', self.batch_size, self.image_size)\n",
    "        (self.x_test, self.y_test) = self.make_dataset(self.data_folder+'/test', self.batch_size, self.image_size)\n",
    "\n",
    "        \n",
    "    def make_dataset(self, directory, batch_size, image_size):\n",
    "        dataset = tf.keras.preprocessing.image_dataset_from_directory(\n",
    "        directory=directory,\n",
    "        labels='inferred',\n",
    "        label_mode='int',\n",
    "        color_mode='grayscale',\n",
    "        image_size=image_size,\n",
    "        batch_size=batch_size\n",
    "        )\n",
    "        datas = [x for x,_ in dataset]\n",
    "        labels = [y for _,y in  dataset]\n",
    "        #Using the np.concatenate to convert datas and labels into single np.array \n",
    "        return np.concatenate(datas, axis = 0), np.concatenate(labels, axis = 0)\n",
    "\n",
    "    def display_image(self,dataset,index):\n",
    "        if dataset == 'train':\n",
    "            image = self.x_train[index]\n",
    "            label = self.y_train[index]\n",
    "        elif dataset == 'test':\n",
    "            image = self.x_test[index]\n",
    "            label = self.y_test[index]\n",
    "        else:\n",
    "            raise ValueError('Invalid dataset. Choose either \"train\" or \"test\".')\n",
    "\n",
    "        plt.imshow(image,cmap=\"gray\")\n",
    "        plt.title(f'Image {index} - Catégorie: {label}')\n",
    "        plt.axis('off')\n",
    "        plt.show()\n",
    "    \n",
    "    def display_category_means(self):\n",
    "        normal_mean = self.calculate_category_mean(self.x_train, self.y_train, \"NORMAL\")\n",
    "        pneumonia_mean = self.calculate_category_mean(self.x_train, self.y_train, \"PNEUMONIA\")\n",
    "\n",
    "        plt.figure(figsize=(10, 5))\n",
    "        plt.subplot(1, 2, 1)\n",
    "        plt.imshow(normal_mean, cmap=\"gray\")\n",
    "        plt.title(\"Mean NORMAL Image\")\n",
    "        plt.axis(\"off\")\n",
    "\n",
    "        plt.subplot(1, 2, 2)\n",
    "        plt.imshow(pneumonia_mean, cmap=\"gray\")\n",
    "        plt.title(\"Mean PNEUMONIA Image\")\n",
    "        plt.axis(\"off\")\n",
    "\n",
    "        plt.tight_layout()\n",
    "        plt.show()\n",
    "\n",
    "    @staticmethod\n",
    "    def calculate_category_mean(images, labels, category):\n",
    "        images = np.array(images)\n",
    "        labels = np.array(labels)\n",
    "        category_images = images[labels == category]\n",
    "        mean_image = np.mean(category_images, axis=0)\n",
    "        return mean_image\n",
    "    \n",
    "    def display_xray_distribution(self):\n",
    "        test = ( self.y_test.count(\"NORMAL\"), self.y_test.count(\"PNEUMONIA\") )\n",
    "        train = ( self.y_train.count(\"NORMAL\"), self.y_train.count(\"PNEUMONIA\") )\n",
    "        val = ( self.y_val.count(\"NORMAL\"), self.y_val.count(\"PNEUMONIA\") )\n",
    "        \n",
    "        # Tracer les graphiques de distribution\n",
    "        fig, ax = plt.subplots(1, 3, figsize=(15, 5))\n",
    "        ax[0].bar([\"NORMAL\", \"PNEUMONIA\"], train)\n",
    "        ax[0].set_title(\"Train Distribution\")\n",
    "        ax[1].bar([\"NORMAL\", \"PNEUMONIA\"], val)\n",
    "        ax[1].set_title(\"Validation Distribution\")\n",
    "        ax[2].bar([\"NORMAL\", \"PNEUMONIA\"], test)\n",
    "        ax[2].set_title(\"Test Distribution\")\n",
    "        plt.show()\n",
    "    \n",
    "    \n"
   ],
   "outputs": [],
   "execution_count": 60
  },
  {
   "metadata": {},
   "cell_type": "code",
   "source": [
    "loader = XrayLoader()\n",
    "loader.load_data()\n",
    "xtrain = loader.x_train\n",
    "ytrain = loader.y_train\n",
    "xtest = loader.x_test\n",
    "ytest = loader.y_test\n",
    "xval = loader.x_val\n",
    "yval = loader.y_val\n",
    "loader = XrayLoader(x_train=xtrain, y_train=ytrain, x_val=xval, y_val=yval, x_test=xtest, y_test=ytest)"
   ],
   "outputs": [],
   "execution_count": null
  },
  {
   "cell_type": "code",
   "metadata": {
    "ExecuteTime": {
     "start_time": "2024-04-16T09:07:24.972294Z"
    }
   },
   "source": [
    "loader.display_image(\"train\",2000)"
   ],
   "outputs": [],
   "execution_count": null
  },
  {
   "cell_type": "code",
   "metadata": {
    "ExecuteTime": {
     "start_time": "2024-04-16T09:07:25.038725Z"
    }
   },
   "source": [
    "# loader.display_category_means()"
   ],
   "outputs": [],
   "execution_count": null
  },
  {
   "cell_type": "code",
   "metadata": {
    "ExecuteTime": {
     "start_time": "2024-04-16T09:07:25.042280Z"
    }
   },
   "source": "# loader.x_train",
   "outputs": [],
   "execution_count": null
  },
  {
   "metadata": {
    "ExecuteTime": {
     "start_time": "2024-04-16T09:07:25.047933Z"
    }
   },
   "cell_type": "code",
   "source": "loader.display_xray_distribution();",
   "outputs": [],
   "execution_count": null
  },
  {
   "metadata": {
    "ExecuteTime": {
     "end_time": "2024-04-16T09:09:23.793631Z",
     "start_time": "2024-04-16T09:08:06.105139Z"
    }
   },
   "cell_type": "code",
   "source": [
    "from sklearn.ensemble import RandomForestClassifier\n",
    "from sklearn.metrics import accuracy_score\n",
    "\n",
    "model = RandomForestClassifier()\n",
    "model.fit(loader.x_train.reshape(-1,256*256), loader.y_train)\n",
    "\n",
    "y_pred = model.predict(loader.x_test.reshape(-1,256*256))\n",
    "accuracy = accuracy_score(loader.y_test, y_pred)\n",
    "\n",
    "print('Accuracy:', accuracy)"
   ],
   "outputs": [
    {
     "name": "stdout",
     "output_type": "stream",
     "text": [
      "Accuracy: 0.7628205128205128\n"
     ]
    }
   ],
   "execution_count": 61
  }
 ],
 "metadata": {
  "kernelspec": {
   "display_name": "Python 3",
   "language": "python",
   "name": "python3"
  },
  "language_info": {
   "codemirror_mode": {
    "name": "ipython",
    "version": 3
   },
   "file_extension": ".py",
   "mimetype": "text/x-python",
   "name": "python",
   "nbconvert_exporter": "python",
   "pygments_lexer": "ipython3",
   "version": "3.9.13"
  }
 },
 "nbformat": 4,
 "nbformat_minor": 2
}
